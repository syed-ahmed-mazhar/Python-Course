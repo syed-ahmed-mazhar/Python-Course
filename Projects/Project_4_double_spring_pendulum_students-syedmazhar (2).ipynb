{
 "cells": [
  {
   "cell_type": "markdown",
   "id": "3a9e6fb4-ef88-4197-954a-3acdbb7a9aa6",
   "metadata": {},
   "source": [
    "# Project 4 - The double spring pendulum - Syed Ahmed Mazhar"
   ]
  },
  {
   "cell_type": "markdown",
   "id": "ae080528-2683-4819-a5b4-d67de4fe0b1d",
   "metadata": {
    "tags": []
   },
   "source": [
    "**Project deadline:** This project is due for submission on **Friday, 21.06.2024, 11:55pm**. Please check carefully the *About the Projects* section below for further details."
   ]
  },
  {
   "cell_type": "markdown",
   "id": "24558a7a-b7ad-494e-9db4-7e3874ab246f",
   "metadata": {},
   "source": [
    "**Imprtant:** You again have the choice between two projects. This project is similar to a [*Lagragian mechanics* lecture](https://youtu.be/Sj7V65RVfuE) and it should motivate to teach yourself more about the powerful `sympy`-library. If you choose this project, you also will need to know how to [numerically solve ordinary differential equations](https://youtu.be/wfjqpa2Dsnk?t=3915) with `scipy`. \n",
    "\n",
    "The other project focuses on an extension (level 2) from the physics725 word game (project 3). \n",
    "\n",
    "**Note:** Although both projects build up on project 3, you can easily switch the path if you like (`sympy/scipy` to the word game or vice versa). "
   ]
  },
  {
   "cell_type": "markdown",
   "id": "6c95c57e-2c30-4ae0-8b20-c0825e8deaa1",
   "metadata": {},
   "source": [
    "**Note:** The project is close to what I show you in a [video](https://youtu.be/Sj7V65RVfuE) on `Lagragian mechanics` with `sympy`. Perhaps you have another *non-trivial* mechanics problem from your Bachelor studies that you always wanted to solve - typically in class only *easy and analytically solvable* problems are treated. During my first theoretical physics class (theoretical mechanics), I wanted to solve the problem of this project with `Maple`. I did not succeed at the time. If you have such a problem, please talk to me. If it is non-trivial, you are very welcome to solve *your* problem in this project! "
   ]
  },
  {
   "cell_type": "markdown",
   "id": "ce602cd4-0ec7-445b-b774-dca33d7ca4a2",
   "metadata": {
    "tags": []
   },
   "source": [
    "## About the Projects\n",
    "- You will get one project approximately every other week.\n",
    "- Besides the homework-assignments, you need to solve the projects in order to pass the course. Your final course mark consists of the mean of your project marks. We aim to hand-out six projects during the term and we do not consider the worst project mark for your final course mark. Projects that you do not hand in are counted with a mark of 4.\n",
    "- The project needs to be submitted by uploading this notebook to [Projects/Project 4](https://ecampus.uni-bonn.de/goto_ecampus_exc_3381147.html) on eCampus. You do not need to modify the notebooks name and **please clear all outputs** before your upload! Your project must be on eCampus by Friday, 21.06.2024, 11:55pm. **No late uploads can be accepted!**\n",
    "- **In contrast to the homework exercises, each student must hand in an own solution for the projects! Of course you can and should discuss problems with each other! However, you need to be able to explain your solution in detail to your tutor and/or the lecturers! We might ask you for an interview about your project if the solution is (close to) identical to another students submission.**\n",
    "\n",
    "**Note:** The tutors, Thomas and I are very happy to help you out with difficulties you might have with the project tasks! You can ask questions any time but please do so well in advance of the deadlines!"
   ]
  },
  {
   "cell_type": "markdown",
   "id": "c92edd6a-c658-4b17-b218-5467caf50161",
   "metadata": {},
   "source": [
    "## This project"
   ]
  },
  {
   "cell_type": "markdown",
   "id": "b19de10f-9f09-4c28-9c4f-8d7f7f6f8068",
   "metadata": {},
   "source": [
    "We consider the double spring pendulum; see the following figure:"
   ]
  },
  {
   "cell_type": "markdown",
   "id": "3e5ca8ee-dcae-4cc9-8717-eb0f5536c2b7",
   "metadata": {},
   "source": [
    "<img src=\"figs/double_spring_pendulum.png\" height=100 />"
   ]
  },
  {
   "cell_type": "markdown",
   "id": "0b6f020c-30bf-42fe-be7c-d5932b0c0153",
   "metadata": {},
   "source": [
    "Two masses $m_1$ and $m_2$ are connected via two springs (spring constants $k_1$ and $k_2$. In rest, the springs have a length of $l_1$ and $l_2$ respectively. The origin (red dot) is fixed but otherwise the two masses can move freely (gravity acts in the negative $y$-direction)."
   ]
  },
  {
   "cell_type": "markdown",
   "id": "9cb32f4e-184d-4b17-814a-f8aa234433a2",
   "metadata": {},
   "source": [
    "### Your tasks:"
   ]
  },
  {
   "cell_type": "markdown",
   "id": "0fc9653e-5170-4b5e-b5bd-0c4c985ee321",
   "metadata": {},
   "source": [
    "**Note:** You probably will have difficulties to under stand the task before watching the [video](https://youtu.be/Sj7V65RVfuE) on Lagragian mechanics with sympy."
   ]
  },
  {
   "cell_type": "markdown",
   "id": "90927a7e-18c8-4fe4-9690-f30f69c39019",
   "metadata": {},
   "source": [
    "1. Write down the Lagragian of the system.\n",
    "2. Use `sympy` and `odeint` to solve the equations of motions for the system. Consider a timeframe of 60 seconds.\n",
    "3. Create a movie visualising the movements of the system. Please use the internet to obtain more information about it if the lecture material is not sufficient. Of course, you are also very welcome to start discussing it on the `eCampus` forum. Again, I received excellent animations from your peers in the past. I show two examples below and they form the reference of full credits for this task. "
   ]
  },
  {
   "cell_type": "markdown",
   "id": "ebc25b99-31dd-4b2a-9b94-e1b65e2b7b3e",
   "metadata": {},
   "source": [
    "<img src=\"figs/double_spring_pendulum.gif\" style=\"height: 200px;\"><img src=\"figs/double_spring_pendulum_2.gif\" style=\"height: 200px;\">"
   ]
  },
  {
   "cell_type": "code",
   "execution_count": null,
   "id": "8755d8f1-07bb-48d1-b8ad-7ef4d7010ed2",
   "metadata": {},
   "outputs": [],
   "source": [
    "# your solution in the following cells please"
   ]
  },
  {
   "cell_type": "markdown",
   "id": "f2657dc3-e7e4-497f-ab8c-65a6e601efe2",
   "metadata": {},
   "source": [
    "### Entire code runs in less than four minutes"
   ]
  },
  {
   "cell_type": "markdown",
   "id": "8b901e87-0f01-4f73-92ae-d25c5d5d90d2",
   "metadata": {},
   "source": [
    "### Task 1"
   ]
  },
  {
   "cell_type": "code",
   "execution_count": null,
   "id": "a5e36faa-e382-40fb-a38f-0bd2b3e46581",
   "metadata": {
    "tags": []
   },
   "outputs": [],
   "source": [
    "import numpy as np\n",
    "import sympy as smp\n",
    "from scipy.integrate import odeint\n",
    "import matplotlib.pyplot as plt\n",
    "from matplotlib.animation import FuncAnimation, PillowWriter #Used for the animations and saving of the gif\n",
    "\n",
    "# Define symbols\n",
    "t = smp.symbols('t')\n",
    "m1, m2, g, k1, k2, l1, l2 = smp.symbols('m1 m2 g k1 k2 l1 l2')\n",
    "\n",
    "# Generalized coordinates and their derivatives\n",
    "theta1, theta2 = smp.Function('theta1')(t), smp.Function('theta2')(t)\n",
    "r1, r2 = smp.Function('r1')(t), smp.Function('r2')(t) #r1 and r2 represent the extension of spring 1 and spring 2\n",
    "\n",
    "theta1_d, theta2_d = smp.diff(theta1, t), smp.diff(theta2, t)\n",
    "r1_d, r2_d = smp.diff(r1, t), smp.diff(r2, t)\n",
    "\n",
    "# Cartesian coordinates of each mass\n",
    "x1 = r1 * smp.sin(theta1)\n",
    "y1 = -r1 * smp.cos(theta1)\n",
    "x2 = x1 + r2 * smp.sin(theta2)\n",
    "y2 = y1 - r2 * smp.cos(theta2)\n",
    "\n",
    "# Velocities of each mass\n",
    "v1 = smp.sqrt(smp.diff(x1, t)**2 + smp.diff(y1, t)**2).simplify() #The .simplify() will turn an equation in a simpler form making it faster to solve\n",
    "v2 = smp.sqrt(smp.diff(x2, t)**2 + smp.diff(y2, t)**2).simplify()\n",
    "\n",
    "# Kinetic and Potential energies\n",
    "T1 = (0.5 * m1 * v1**2).simplify()\n",
    "T2 = (0.5 * m2 * v2**2).simplify()\n",
    "V_mass1 = (m1 * g * y1).simplify()\n",
    "V_mass2 = (m2 * g * y2).simplify()\n",
    "V_spring1 = (0.5 * k1 * (r1 - l1)**2).simplify()\n",
    "V_spring2 = (0.5 * k2 * (r2 - l2)**2).simplify()\n",
    "\n",
    "# Lagrangian\n",
    "L = (T1 + T2 - V_mass1 - V_mass2 - V_spring1 - V_spring2).simplify()"
   ]
  },
  {
   "cell_type": "code",
   "execution_count": null,
   "id": "128b9dba-df50-43ba-8762-f827a6ea9cb6",
   "metadata": {
    "tags": []
   },
   "outputs": [],
   "source": [
    "L"
   ]
  },
  {
   "cell_type": "markdown",
   "id": "05329f8e-a532-4b0f-90d1-1f99b4ddbea0",
   "metadata": {},
   "source": [
    "### Task 2"
   ]
  },
  {
   "cell_type": "code",
   "execution_count": null,
   "id": "a1d57afa-f01b-4261-9cdb-ffc829706fc7",
   "metadata": {},
   "outputs": [],
   "source": [
    "# Euler-Lagrange equations for the four generalized coordinates\n",
    "LE1 = (smp.diff(smp.diff(L, theta1_d), t) - smp.diff(L, theta1)).simplify()\n",
    "LE2 = (smp.diff(smp.diff(L, theta2_d), t) - smp.diff(L, theta2)).simplify()\n",
    "LE3 = (smp.diff(smp.diff(L, r1_d), t) - smp.diff(L, r1)).simplify()\n",
    "LE4 = (smp.diff(smp.diff(L, r2_d), t) - smp.diff(L, r2)).simplify()\n"
   ]
  },
  {
   "cell_type": "code",
   "execution_count": null,
   "id": "52e5c484-669f-41f7-b431-983aa2b9560b",
   "metadata": {
    "tags": []
   },
   "outputs": [],
   "source": [
    "# Euler-Lagrange equations for the four generalized coordinates\n",
    "LE1 = (smp.diff(smp.diff(L, theta1_d), t) - smp.diff(L, theta1)).simplify()\n",
    "LE2 = (smp.diff(smp.diff(L, theta2_d), t) - smp.diff(L, theta2)).simplify()\n",
    "LE3 = (smp.diff(smp.diff(L, r1_d), t) - smp.diff(L, r1)).simplify()\n",
    "LE4 = (smp.diff(smp.diff(L, r2_d), t) - smp.diff(L, r2)).simplify()\n",
    "\n",
    "# Solving the equations of motion\n",
    "solutions = smp.solve([LE1, LE2, LE3, LE4], (theta1.diff(t, 2), theta2.diff(t, 2), r1.diff(t, 2), r2.diff(t, 2)))\n",
    "solutions = {k: v.simplify() for k, v in solutions.items()}\n",
    "\n",
    "# Converting solutions to lambda functions for numerical integration\n",
    "theta1_dd_func = smp.lambdify((theta1, theta2, r1, r2, theta1_d, theta2_d, r1_d, r2_d, m1, m2, g, k1, k2, l1, l2), solutions[theta1.diff(t, 2)])\n",
    "theta2_dd_func = smp.lambdify((theta1, theta2, r1, r2, theta1_d, theta2_d, r1_d, r2_d, m1, m2, g, k1, k2, l1, l2), solutions[theta2.diff(t, 2)])\n",
    "r1_dd_func = smp.lambdify((theta1, theta2, r1, r2, theta1_d, theta2_d, r1_d, r2_d, m1, m2, g, k1, k2, l1, l2), solutions[r1.diff(t, 2)])\n",
    "r2_dd_func = smp.lambdify((theta1, theta2, r1, r2, theta1_d, theta2_d, r1_d, r2_d, m1, m2, g, k1, k2, l1, l2), solutions[r2.diff(t, 2)])\n",
    "\n",
    "# Defining the system of ODEs\n",
    "def equations(y, t, m1, m2, g, k1, k2, l1, l2):\n",
    "    theta1, theta2, r1, r2, theta1_d, theta2_d, r1_d, r2_d = y\n",
    "    theta1_dd = theta1_dd_func(theta1, theta2, r1, r2, theta1_d, theta2_d, r1_d, r2_d, m1, m2, g, k1, k2, l1, l2)\n",
    "    theta2_dd = theta2_dd_func(theta1, theta2, r1, r2, theta1_d, theta2_d, r1_d, r2_d, m1, m2, g, k1, k2, l1, l2)\n",
    "    r1_dd = r1_dd_func(theta1, theta2, r1, r2, theta1_d, theta2_d, r1_d, r2_d, m1, m2, g, k1, k2, l1, l2)\n",
    "    r2_dd = r2_dd_func(theta1, theta2, r1, r2, theta1_d, theta2_d, r1_d, r2_d, m1, m2, g, k1, k2, l1, l2)\n",
    "    return [theta1_d, theta2_d, r1_d, r2_d, theta1_dd, theta2_dd, r1_dd, r2_dd]\n",
    "\n",
    "# Initial conditions and parameters\n",
    "m1_val, m2_val, g_val, k1_val, k2_val, l1_val, l2_val = 0.5, 0.3, 9.81, 10, 10, 1, 1\n",
    "y0 = [np.pi/2, np.pi/3, l1_val, l2_val, 4, -4, 0, 0]  # Initial angles, lengths, and angular velocities\n",
    "\n",
    "# Time array for solution\n",
    "time = np.linspace(0, 60, 1000)\n",
    "\n",
    "# Solving the system of ODEs\n",
    "solution = odeint(equations, y0, time, args=(m1_val, m2_val, g_val, k1_val, k2_val, l1_val, l2_val))\n",
    "\n",
    "# Extracting solutions\n",
    "theta1_sol, theta2_sol, r1_sol, r2_sol = solution[:, 0], solution[:, 1], solution[:, 2], solution[:, 3]\n",
    "\n",
    "# Converting polar to Cartesian coordinates for animation\n",
    "x1_sol = r1_sol * np.sin(theta1_sol)\n",
    "y1_sol = -r1_sol * np.cos(theta1_sol)\n",
    "x2_sol = x1_sol + r2_sol * np.sin(theta2_sol)\n",
    "y2_sol = y1_sol - r2_sol * np.cos(theta2_sol)\n"
   ]
  },
  {
   "cell_type": "markdown",
   "id": "6d76fddf-f603-4767-bf52-3e5e1436f7f4",
   "metadata": {},
   "source": [
    "### Task 3"
   ]
  },
  {
   "cell_type": "code",
   "execution_count": null,
   "id": "6cfd23b1-dd09-47dc-9fc9-ec7ad4465c3b",
   "metadata": {
    "tags": []
   },
   "outputs": [],
   "source": [
    "# Creating the animation\n",
    "fig, ax = plt.subplots()\n",
    "ax.set_xlim(-6, 6)\n",
    "ax.set_ylim(-6, 6)\n",
    "ax.grid(True)  # Grid helps us visualize easier\n",
    "\n",
    "# Line collections for springs\n",
    "line1, = ax.plot([], [], lw=2, color='black')  # Using lw we set the line width\n",
    "line2, = ax.plot([], [], lw=2, color='black')\n",
    "\n",
    "# Points for masses\n",
    "mass1, = ax.plot([], [], 'o', color='lightblue', markersize=10)  # Marker 'o' for masses with size 10\n",
    "mass2, = ax.plot([], [], 'o', color='lightblue', markersize=10)\n",
    "\n",
    "# Path collections for tracing the paths, alpha sets the transparency of the paths to 50%\n",
    "path1, = ax.plot([], [], lw=1, color='red', alpha=0.5)  # Path of mass 1\n",
    "path2, = ax.plot([], [], lw=1, color='blue', alpha=0.5)  # Path of mass 2\n",
    "\n",
    "def init():  # Initialize the lines, masses, and paths with empty lists which will be updated as animation takes place\n",
    "    line1.set_data([], [])\n",
    "    line2.set_data([], [])\n",
    "    mass1.set_data([], [])\n",
    "    mass2.set_data([], [])\n",
    "    path1.set_data([], [])\n",
    "    path2.set_data([], [])\n",
    "    return line1, line2, mass1, mass2, path1, path2  # Return all elements that must be animated\n",
    "\n",
    "def animate(i):  # Function called sequentially to update the plot\n",
    "    x1, y1 = x1_sol[i], y1_sol[i]\n",
    "    x2, y2 = x2_sol[i], y2_sol[i]\n",
    "\n",
    "    # Connects the two masses via lines and connects the 1st mass to the origin\n",
    "    line1.set_data([0, x1], [0, y1])\n",
    "    line2.set_data([x1, x2], [y1, y2])\n",
    "    \n",
    "    # Update mass positions\n",
    "    mass1.set_data([x1], [y1])\n",
    "    mass2.set_data([x2], [y2])\n",
    "\n",
    "    # Update paths to show the most recent 5 seconds\n",
    "    start_index = max(0, i - 100)  # 20 frames per second, 20 * 5 = 100\n",
    "    \n",
    "    # Update the paths to show the path of the last 100 frames (i.e., 5 seconds)\n",
    "    path1.set_data(x1_sol[start_index:i], y1_sol[start_index:i])\n",
    "    path2.set_data(x2_sol[start_index:i], y2_sol[start_index:i])\n",
    "    \n",
    "    return line1, line2, mass1, mass2, path1, path2\n",
    "\n",
    "# Create animation by repeatedly calling animate function, blit improves performance by only re-drawing parts of the plot that have changed\n",
    "ani = FuncAnimation(fig, animate, frames=len(time), init_func=init, blit=True)\n",
    "\n",
    "# Save the animation\n",
    "writer = PillowWriter(fps=20)  # Use 20 frames per second\n",
    "ani.save(\"project_double_spring_pendulum.gif\", writer=writer)  # Save the pendulum animation as a gif file\n"
   ]
  },
  {
   "cell_type": "code",
   "execution_count": null,
   "id": "77c48033-b974-4c9d-88eb-f451760b1460",
   "metadata": {},
   "outputs": [],
   "source": []
  },
  {
   "cell_type": "code",
   "execution_count": null,
   "id": "d51c36ff-f7fe-49bb-a853-ef4950ceebe6",
   "metadata": {},
   "outputs": [],
   "source": []
  }
 ],
 "metadata": {
  "kernelspec": {
   "display_name": "Python 3 (ipykernel)",
   "language": "python",
   "name": "python3"
  },
  "language_info": {
   "codemirror_mode": {
    "name": "ipython",
    "version": 3
   },
   "file_extension": ".py",
   "mimetype": "text/x-python",
   "name": "python",
   "nbconvert_exporter": "python",
   "pygments_lexer": "ipython3",
   "version": "3.11.6"
  }
 },
 "nbformat": 4,
 "nbformat_minor": 5
}
