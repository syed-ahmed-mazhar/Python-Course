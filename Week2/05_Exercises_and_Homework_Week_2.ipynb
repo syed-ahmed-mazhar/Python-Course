{
 "cells": [
  {
   "cell_type": "markdown",
   "metadata": {
    "nbgrader": {
     "grade": false,
     "grade_id": "cell-515e01b25bda86a9",
     "locked": true,
     "schema_version": 3,
     "solution": false,
     "task": false
    }
   },
   "source": [
    "# Exercises and Homework for week 2"
   ]
  },
  {
   "cell_type": "markdown",
   "metadata": {
    "nbgrader": {
     "grade": false,
     "grade_id": "cell-14ca577e70096fbf",
     "locked": true,
     "schema_version": 3,
     "solution": false,
     "task": false
    }
   },
   "source": [
    "## physics725: Programming in Physics and Astronomy with C++ or Python (SS 2024)\n",
    "Thomas Erben"
   ]
  },
  {
   "cell_type": "markdown",
   "metadata": {
    "nbgrader": {
     "grade": false,
     "grade_id": "cell-58e8949e2e41603c",
     "locked": true,
     "schema_version": 3,
     "solution": false,
     "task": false
    }
   },
   "source": [
    "Homework is due on **Thursday, 25/04/2024, 11:59pm**\n",
    "\n",
    " * You only learn a programming language by actively praticing and using it! We therefore **strongly** advise you to work on the homework problems.\n",
    " * Please discuss the problems with your student peers and with your tutor.\n",
    " * Your code(s) need(s) to be well and appropriately commented!\n",
    " * Submit this notebook and, if necessary, additional files in a `zip`-archive with name `Homework_2_group_XX.zip` (replace `XX` with your group number) to your tutor.\n",
    "\n",
    "**Topics of this exercise:**\n",
    " * scalar data types in Python *int*, *float* and *bool*\n",
    " * control structures *if* and *while*\n",
    " * floating poing accuracy"
   ]
  },
  {
   "cell_type": "markdown",
   "metadata": {},
   "source": [
    "**Your group number here please:**  Group XX"
   ]
  },
  {
   "cell_type": "markdown",
   "metadata": {},
   "source": [
    "# 1. Lecture Review (0 points)"
   ]
  },
  {
   "cell_type": "markdown",
   "metadata": {},
   "source": [
    "If you did the lecture review questions [04_Lecture_Review.ipynb](04_Lecture_Review.ipynb) (strongly recommended!): \n",
    "Please discuss with your tutor and your group any issues/problems you had with them."
   ]
  },
  {
   "cell_type": "markdown",
   "metadata": {
    "tags": []
   },
   "source": [
    "# 2. Machine epsilon (5 points)\n",
    "In class we talked about inaccuracies that occur in a computer when performing operations with floating-point numbers. An important value to quantify floating-point accuracy is the *machine epsilon*. Please have a look at the [Wikipedia article on the machine epsilon](https://en.wikipedia.org/wiki/Machine_epsilon) to learn more about it. \n",
    "\n",
    "The *machine epsilon* is defined as the smallest number $\\epsilon_m$ such that $1.0 + \\epsilon_m > 1.0$. According to the Wikipedia article, the machine epsilon of your programming language can be estimated up to a factor of two with the algorithm:\n",
    "\n",
    "```\n",
    "epsilon_m = 1.0;\n",
    "\n",
    "while (1.0 + 0.5 * epsilon_m) > 1.0:\n",
    "    epsilon_m = 0.5 * epsilon_m\n",
    "\n",
    "```\n",
    "Use this algorithm to determine the *machine epsilon* of the Python-float type. Which float-type is used in Python (see the table of the Wikipedia article)?"
   ]
  },
  {
   "cell_type": "code",
   "execution_count": null,
   "metadata": {},
   "outputs": [],
   "source": [
    "# Your solution here please"
   ]
  },
  {
   "cell_type": "markdown",
   "metadata": {},
   "source": [
    "# 3. Test of natural numbers for the prime property (10 points)"
   ]
  },
  {
   "cell_type": "markdown",
   "metadata": {},
   "source": [
    "In the following, we want to develop a program to test positive integer numbers for the prime property. A positive integer larger than 1 is a prime if it cannot be formed by multiplying two smaller natural numbers. \n",
    "\n",
    "The student Lydia Leibnitz proposes the following algorithm for the task:\n",
    "1. We are given a natural number $n$ that we want to test\n",
    "2. In a loop, we test whether `n % m == 0` for all natural numbers $m$ with $2\\leq m < \\sqrt{n}$\n",
    "3. If the test (2) is `True` for any of the tested $m$, then $n$ is not prime. Otherwise, we have a prime number.\n",
    "\n",
    "Lydia gives the following proof for the correctness of her algorithm:\n",
    "Divisors of $n$ come in pairs and say $n = ab$. Then **exactly one** of the two follwing possibilities can be true:\n",
    "1. $a < \\sqrt{n} \\text{ and } b > \\sqrt{n}$\n",
    "2. $a > \\sqrt{n} \\text{ and } b < \\sqrt{n}$\n",
    "\n",
    "To see this, we assume $a< \\sqrt{n} \\text{ and } b < \\sqrt{n}$. Then follows $n = ab < \\sqrt{n}\\sqrt{n} < n$ which leads to the contradiction $n<n$! Similarily, we conclude that not both, $a$ and $b$ can be larger than $\\sqrt{n}$. It follows that one of the divisors of $n$ must be smaller than $\\sqrt{n}$ and we only need to test $2\\leq m < \\sqrt{n}$ to check whether $n$ is a prime.\n",
    "\n",
    "Your tasks:\n",
    "1. Implement Lydias algorithm to test a given number $n$ for the prime property. Your program should report with a text-message, which number is tested and whether it is a prime or not.\n",
    "2. Test your program with the numbers 8, 105, 177, 51, 5, 47, 199 and 967. Your program should report the last four numbers as primes and the others as non-prime.\n",
    "3. Embed your test in a loop and consider systematically all numbers $2\\leq n \\leq 100$ for the prime property. What do you observe?\n",
    "4. (3.) should show you that your program does not work as expected! Find the underlying algorithmic problem and correct your program! Document within your notebook or script what the problem is!\n",
    "\n",
    "**Hint:** In the past, many students *did not find any problem* with their implemented algorithm. In that case, your first issue is that you did not implement *exactly* the algorithm described above."
   ]
  },
  {
   "cell_type": "code",
   "execution_count": 2,
   "metadata": {
    "tags": []
   },
   "outputs": [
    {
     "name": "stdout",
     "output_type": "stream",
     "text": [
      "False\n",
      "False\n",
      "False\n",
      "False\n",
      "True\n",
      "True\n",
      "True\n",
      "True\n",
      "--------------------------------\n",
      "testing more numbers\n",
      "2 :True\n",
      "3 :True\n",
      "4 :True\n",
      "5 :True\n",
      "6 :False\n",
      "7 :True\n",
      "8 :False\n",
      "9 :True\n",
      "10 :False\n",
      "11 :True\n",
      "12 :False\n",
      "13 :True\n",
      "14 :False\n",
      "15 :False\n",
      "16 :False\n",
      "17 :True\n",
      "18 :False\n",
      "19 :True\n",
      "20 :False\n",
      "21 :False\n",
      "22 :False\n",
      "23 :True\n",
      "24 :False\n",
      "25 :True\n",
      "26 :False\n",
      "27 :False\n",
      "28 :False\n",
      "29 :True\n",
      "30 :False\n",
      "31 :True\n",
      "32 :False\n",
      "33 :False\n",
      "34 :False\n",
      "35 :False\n",
      "36 :False\n",
      "37 :True\n",
      "38 :False\n",
      "39 :False\n",
      "40 :False\n",
      "41 :True\n",
      "42 :False\n",
      "43 :True\n",
      "44 :False\n",
      "45 :False\n",
      "46 :False\n",
      "47 :True\n",
      "48 :False\n",
      "49 :True\n",
      "50 :False\n",
      "51 :False\n",
      "52 :False\n",
      "53 :True\n",
      "54 :False\n",
      "55 :False\n",
      "56 :False\n",
      "57 :False\n",
      "58 :False\n",
      "59 :True\n",
      "60 :False\n",
      "61 :True\n",
      "62 :False\n",
      "63 :False\n",
      "64 :False\n",
      "65 :False\n",
      "66 :False\n",
      "67 :True\n",
      "68 :False\n",
      "69 :False\n",
      "70 :False\n",
      "71 :True\n",
      "72 :False\n",
      "73 :True\n",
      "74 :False\n",
      "75 :False\n",
      "76 :False\n",
      "77 :False\n",
      "78 :False\n",
      "79 :True\n",
      "80 :False\n",
      "81 :False\n",
      "82 :False\n",
      "83 :True\n",
      "84 :False\n",
      "85 :False\n",
      "86 :False\n",
      "87 :False\n",
      "88 :False\n",
      "89 :True\n",
      "90 :False\n",
      "91 :False\n",
      "92 :False\n",
      "93 :False\n",
      "94 :False\n",
      "95 :False\n",
      "96 :False\n",
      "97 :True\n",
      "98 :False\n",
      "99 :False\n",
      "--------------------------------\n",
      "4 is wrong\n"
     ]
    }
   ],
   "source": [
    "import numpy as np\n",
    "\n",
    "def test_prime(n):\n",
    "    m=2\n",
    "    is_prime = True\n",
    "    while m < np.sqrt(n):\n",
    "        if n % m ==0:\n",
    "            is_prime = False\n",
    "            break\n",
    "        else:\n",
    "            m +=1\n",
    "    return is_prime\n",
    "\n",
    "\n",
    "\n",
    "test_vals = [8, 105, 177, 51, 5, 47, 199, 967]\n",
    "for p in test_vals:\n",
    "    print(test_prime(p))\n",
    "\n",
    "print(\"--------------------------------\")\n",
    "print(\"testing more numbers\")   \n",
    "for p in range(2,100):\n",
    "    print(str(p)+ \" :\"+str(test_prime(p)))\n",
    "    \n",
    "print(\"--------------------------------\")\n",
    "print(\"4 is wrong\")   "
   ]
  },
  {
   "cell_type": "markdown",
   "metadata": {},
   "source": [
    "We see that 4 is wrong so we adjust the program to explicitly test if number is 4"
   ]
  },
  {
   "cell_type": "code",
   "execution_count": 4,
   "metadata": {
    "tags": []
   },
   "outputs": [
    {
     "name": "stdout",
     "output_type": "stream",
     "text": [
      "2 :True\n",
      "3 :True\n",
      "4 :False\n",
      "5 :True\n",
      "6 :False\n",
      "7 :True\n",
      "8 :False\n",
      "9 :True\n",
      "10 :False\n",
      "11 :True\n",
      "12 :False\n",
      "13 :True\n",
      "14 :False\n",
      "15 :False\n",
      "16 :False\n",
      "17 :True\n",
      "18 :False\n",
      "19 :True\n",
      "20 :False\n",
      "21 :False\n",
      "22 :False\n",
      "23 :True\n",
      "24 :False\n",
      "25 :True\n",
      "26 :False\n",
      "27 :False\n",
      "28 :False\n",
      "29 :True\n",
      "30 :False\n",
      "31 :True\n",
      "32 :False\n",
      "33 :False\n",
      "34 :False\n",
      "35 :False\n",
      "36 :False\n",
      "37 :True\n",
      "38 :False\n",
      "39 :False\n",
      "40 :False\n",
      "41 :True\n",
      "42 :False\n",
      "43 :True\n",
      "44 :False\n",
      "45 :False\n",
      "46 :False\n",
      "47 :True\n",
      "48 :False\n",
      "49 :True\n",
      "50 :False\n",
      "51 :False\n",
      "52 :False\n",
      "53 :True\n",
      "54 :False\n",
      "55 :False\n",
      "56 :False\n",
      "57 :False\n",
      "58 :False\n",
      "59 :True\n",
      "60 :False\n",
      "61 :True\n",
      "62 :False\n",
      "63 :False\n",
      "64 :False\n",
      "65 :False\n",
      "66 :False\n",
      "67 :True\n",
      "68 :False\n",
      "69 :False\n",
      "70 :False\n",
      "71 :True\n",
      "72 :False\n",
      "73 :True\n",
      "74 :False\n",
      "75 :False\n",
      "76 :False\n",
      "77 :False\n",
      "78 :False\n",
      "79 :True\n",
      "80 :False\n",
      "81 :False\n",
      "82 :False\n",
      "83 :True\n",
      "84 :False\n",
      "85 :False\n",
      "86 :False\n",
      "87 :False\n",
      "88 :False\n",
      "89 :True\n",
      "90 :False\n",
      "91 :False\n",
      "92 :False\n",
      "93 :False\n",
      "94 :False\n",
      "95 :False\n",
      "96 :False\n",
      "97 :True\n",
      "98 :False\n",
      "99 :False\n"
     ]
    }
   ],
   "source": [
    "import numpy as np\n",
    "\n",
    "def test_prime(n):\n",
    "    if n == 4:\n",
    "        return False \n",
    "    else:\n",
    "        m=2\n",
    "        is_prime = True\n",
    "        while m < np.sqrt(n):\n",
    "            if n % m ==0:\n",
    "                is_prime = False\n",
    "                break\n",
    "            else:\n",
    "                m +=1\n",
    "        return is_prime\n",
    "    \n",
    "for p in range(2,100):\n",
    "    print(str(p)+ \" :\"+str(test_prime(p)))\n",
    "    "
   ]
  },
  {
   "cell_type": "markdown",
   "metadata": {
    "nbgrader": {
     "grade": false,
     "grade_id": "cell-5c20b7824c889804",
     "locked": true,
     "schema_version": 3,
     "solution": false,
     "task": false
    }
   },
   "source": [
    "# 4. Problems with an integral series (15 points)"
   ]
  },
  {
   "cell_type": "markdown",
   "metadata": {
    "nbgrader": {
     "grade": false,
     "grade_id": "cell-637b4ff9e037754d",
     "locked": true,
     "schema_version": 3,
     "solution": false,
     "task": false
    }
   },
   "source": [
    "Consider the sequence\n",
    "$$\n",
    "I_n=\\int_0^1 \\frac{x^{n}}{x+10}\\,\\mathrm{d}x; \\qquad n=1,2,\\dots\n",
    "$$\n",
    "We observe that\n",
    "\\begin{equation}\n",
    "I_n + 10I_{n-1} = \\int_0^1 \\frac{x^{n}+10x^{n-1}}{x+10}\\,\\mathrm{d}x =\n",
    "\\int_0^1 x^{n-1}\\,\\mathrm{d}x = \\frac 1n \\label{eq1}\\tag{1}\n",
    "\\end{equation}\n",
    "resulting in\n",
    "\\begin{equation}\n",
    "I_n = \\frac 1n - 10I_{n-1} \\text{ and } \n",
    "I_0 = \\int_0^1 \\frac{1}{x+10}\\,\\mathrm{d}x = \\ln(11/10)\\approx 0.09531. \\label{eq2}\\tag{2}\n",
    "\\end{equation}\n",
    "One can show that the sequence converges to zero: $\\lim_{n\\to\\infty}I_n=0$. \n",
    "\n",
    "We want to numerically estimate $I_{20}$ by using eqs. \\ref{eq1} and \\ref{eq2}. We can caluclulate and print the first 20 elements of the series in a `while`-loop. \n",
    "\n",
    "There is a second, independent estimate of $I_{20}$ if we revert the first relation from eq. \\ref{eq2}:\n",
    "\\begin{equation}\n",
    "  I_{n-1} = \\frac 1{10}\\left(\\frac 1n -I_{n}\\right) \\text{ with } I_{50} = 0.\\label{eq3}\\tag{3}\n",
    "\\end{equation}\n",
    "This relation allows us to calculate the elements $I_{50}, I_{49}, \\dots, I_{20}$.\n",
    "\n",
    "**Your tasks:**\n",
    "\n",
    "Perform the two experiments with the forward and the reverse relation in the cells below and argue which one of the results you trust. Please explain your observations.\n",
    "\n",
    "**Hints:** \n",
    " * Assume for the first case (forward relation) that $I_0$ is represented internally as a float number with an error, i.e. $I_0 = \\ln(11/10) + \\epsilon$, where $\\epsilon$ is the error. We know that $\\epsilon\\approx 10^{-18}$ for `Python` float numbers. What happens with $\\epsilon$ when you calculate new elements of the series? \n",
    " * for the logarithm you can use the numpy module with ```import numpy``` and use the defined function ```numpy.log(x)``` to obtain $\\ln(x)$!"
   ]
  },
  {
   "cell_type": "code",
   "execution_count": null,
   "metadata": {},
   "outputs": [],
   "source": [
    "# Your solution with the forward relation from eq. (2)"
   ]
  },
  {
   "cell_type": "code",
   "execution_count": null,
   "metadata": {},
   "outputs": [],
   "source": [
    "# Your solution with the reverse relation from eq. (3)"
   ]
  },
  {
   "cell_type": "markdown",
   "metadata": {},
   "source": [
    "Discussion of results here please"
   ]
  },
  {
   "cell_type": "markdown",
   "metadata": {
    "tags": []
   },
   "source": [
    "## 5. Chicken McNuggets (15 points)\n",
    "Mc Donalds sells its Chicken McNuggets in packages of 6, 9 and 20 pieces. Write a ```python``` program which tests for a given number `N` whether `N` nuggets can be bought or not. Your program should print *all* possible package combinations in which the `N` nuggets can be obtained (e.g. 60 nuggets can be bought with 3 packages of 20 pieces, 10 packages of 6 pieces and three more combinations). Print a corresponding message if the `N` nuggets cannot be bought! \n",
    "\n",
    "**Hints:**\n",
    "- This is a *brute force* problem. It means that you need to find the solutions by trying *all possibilities*. One possible approach is as follows: Write three nested `while` loops iterating over the variables `m`, `n` and `o`. The variables represent the number of packages with corresponding pieces. `m` stands for the number of packages with 6 nuggets and so on. Within the innermost loop, you can check with an `if`-statement such as\n",
    "```\n",
    "if (6 * m + 9 * n + 20 * o) == N:\n",
    "    print('possible solution found ....')\n",
    "```\n",
    "whether your current combination of `(m, n, o)` is a solution to the problem. You now only need to find iteration limits for `m`, `n` and `o` to solve the task. \n",
    "\n",
    "- For `N=60`, you should find the following solutions for `(m * 6, n * 9, o * 20)`: `(0, 0, 3)`, `(1, 6, 0)`, `(4, 4, 0)`, `(7, 2, 0)`, `(10, 0, 0)`."
   ]
  },
  {
   "cell_type": "code",
   "execution_count": 1,
   "metadata": {},
   "outputs": [],
   "source": [
    "def nugget_combos(N):\n",
    "    combos = []\n",
    "    m = 0\n",
    "    while 6 * m <= N:\n",
    "        n = 0\n",
    "        while 6 * m + 9 * n <= N:\n",
    "            o = 0\n",
    "            while 6 * m + 9 * n + 20 * o <= N:\n",
    "                if 6 * m + 9 * n + 20 * o == N:\n",
    "                    combos.append((m, n, o))\n",
    "                o += 1\n",
    "            n += 1\n",
    "        m += 1\n",
    "    if combos:\n",
    "        return combos \n",
    "    else:\n",
    "        return \"Cannot be bought\""
   ]
  },
  {
   "cell_type": "code",
   "execution_count": 3,
   "metadata": {
    "tags": []
   },
   "outputs": [
    {
     "data": {
      "text/plain": [
       "[(0, 0, 3), (1, 6, 0), (4, 4, 0), (7, 2, 0), (10, 0, 0)]"
      ]
     },
     "execution_count": 3,
     "metadata": {},
     "output_type": "execute_result"
    }
   ],
   "source": [
    "nugget_combos(60)"
   ]
  },
  {
   "cell_type": "code",
   "execution_count": 15,
   "metadata": {
    "tags": []
   },
   "outputs": [
    {
     "name": "stdout",
     "output_type": "stream",
     "text": [
      "[(0, 0, 0)]\n",
      "Cannot be bought\n",
      "Cannot be bought\n",
      "Cannot be bought\n",
      "Cannot be bought\n",
      "Cannot be bought\n",
      "[(1, 0, 0)]\n",
      "Cannot be bought\n",
      "Cannot be bought\n",
      "[(0, 1, 0)]\n",
      "Cannot be bought\n",
      "Cannot be bought\n",
      "[(2, 0, 0)]\n",
      "Cannot be bought\n",
      "Cannot be bought\n",
      "[(1, 1, 0)]\n",
      "Cannot be bought\n",
      "Cannot be bought\n",
      "[(0, 2, 0), (3, 0, 0)]\n",
      "Cannot be bought\n",
      "[(0, 0, 1)]\n",
      "[(2, 1, 0)]\n",
      "Cannot be bought\n",
      "Cannot be bought\n",
      "[(1, 2, 0), (4, 0, 0)]\n",
      "Cannot be bought\n",
      "[(1, 0, 1)]\n",
      "[(0, 3, 0), (3, 1, 0)]\n",
      "Cannot be bought\n",
      "[(0, 1, 1)]\n",
      "[(2, 2, 0), (5, 0, 0)]\n",
      "Cannot be bought\n",
      "[(2, 0, 1)]\n",
      "[(1, 3, 0), (4, 1, 0)]\n",
      "Cannot be bought\n",
      "[(1, 1, 1)]\n",
      "[(0, 4, 0), (3, 2, 0), (6, 0, 0)]\n",
      "Cannot be bought\n",
      "[(0, 2, 1), (3, 0, 1)]\n",
      "[(2, 3, 0), (5, 1, 0)]\n",
      "[(0, 0, 2)]\n",
      "[(2, 1, 1)]\n",
      "[(1, 4, 0), (4, 2, 0), (7, 0, 0)]\n",
      "Cannot be bought\n",
      "[(1, 2, 1), (4, 0, 1)]\n",
      "[(0, 5, 0), (3, 3, 0), (6, 1, 0)]\n",
      "[(1, 0, 2)]\n",
      "[(0, 3, 1), (3, 1, 1)]\n",
      "[(2, 4, 0), (5, 2, 0), (8, 0, 0)]\n",
      "[(0, 1, 2)]\n",
      "[(2, 2, 1), (5, 0, 1)]\n",
      "[(1, 5, 0), (4, 3, 0), (7, 1, 0)]\n",
      "[(2, 0, 2)]\n",
      "[(1, 3, 1), (4, 1, 1)]\n",
      "[(0, 6, 0), (3, 4, 0), (6, 2, 0), (9, 0, 0)]\n",
      "[(1, 1, 2)]\n",
      "[(0, 4, 1), (3, 2, 1), (6, 0, 1)]\n",
      "[(2, 5, 0), (5, 3, 0), (8, 1, 0)]\n",
      "[(0, 2, 2), (3, 0, 2)]\n",
      "[(2, 3, 1), (5, 1, 1)]\n",
      "[(0, 0, 3), (1, 6, 0), (4, 4, 0), (7, 2, 0), (10, 0, 0)]\n",
      "[(2, 1, 2)]\n",
      "[(1, 4, 1), (4, 2, 1), (7, 0, 1)]\n",
      "[(0, 7, 0), (3, 5, 0), (6, 3, 0), (9, 1, 0)]\n",
      "[(1, 2, 2), (4, 0, 2)]\n",
      "[(0, 5, 1), (3, 3, 1), (6, 1, 1)]\n",
      "[(1, 0, 3), (2, 6, 0), (5, 4, 0), (8, 2, 0), (11, 0, 0)]\n",
      "[(0, 3, 2), (3, 1, 2)]\n",
      "[(2, 4, 1), (5, 2, 1), (8, 0, 1)]\n",
      "[(0, 1, 3), (1, 7, 0), (4, 5, 0), (7, 3, 0), (10, 1, 0)]\n",
      "[(2, 2, 2), (5, 0, 2)]\n",
      "[(1, 5, 1), (4, 3, 1), (7, 1, 1)]\n",
      "[(0, 8, 0), (2, 0, 3), (3, 6, 0), (6, 4, 0), (9, 2, 0), (12, 0, 0)]\n",
      "[(1, 3, 2), (4, 1, 2)]\n",
      "[(0, 6, 1), (3, 4, 1), (6, 2, 1), (9, 0, 1)]\n",
      "[(1, 1, 3), (2, 7, 0), (5, 5, 0), (8, 3, 0), (11, 1, 0)]\n",
      "[(0, 4, 2), (3, 2, 2), (6, 0, 2)]\n",
      "[(2, 5, 1), (5, 3, 1), (8, 1, 1)]\n",
      "[(0, 2, 3), (1, 8, 0), (3, 0, 3), (4, 6, 0), (7, 4, 0), (10, 2, 0), (13, 0, 0)]\n",
      "[(2, 3, 2), (5, 1, 2)]\n",
      "[(0, 0, 4), (1, 6, 1), (4, 4, 1), (7, 2, 1), (10, 0, 1)]\n",
      "[(0, 9, 0), (2, 1, 3), (3, 7, 0), (6, 5, 0), (9, 3, 0), (12, 1, 0)]\n",
      "[(1, 4, 2), (4, 2, 2), (7, 0, 2)]\n",
      "[(0, 7, 1), (3, 5, 1), (6, 3, 1), (9, 1, 1)]\n",
      "[(1, 2, 3), (2, 8, 0), (4, 0, 3), (5, 6, 0), (8, 4, 0), (11, 2, 0), (14, 0, 0)]\n",
      "[(0, 5, 2), (3, 3, 2), (6, 1, 2)]\n",
      "[(1, 0, 4), (2, 6, 1), (5, 4, 1), (8, 2, 1), (11, 0, 1)]\n",
      "[(0, 3, 3), (1, 9, 0), (3, 1, 3), (4, 7, 0), (7, 5, 0), (10, 3, 0), (13, 1, 0)]\n",
      "[(2, 4, 2), (5, 2, 2), (8, 0, 2)]\n",
      "[(0, 1, 4), (1, 7, 1), (4, 5, 1), (7, 3, 1), (10, 1, 1)]\n",
      "[(0, 10, 0), (2, 2, 3), (3, 8, 0), (5, 0, 3), (6, 6, 0), (9, 4, 0), (12, 2, 0), (15, 0, 0)]\n",
      "[(1, 5, 2), (4, 3, 2), (7, 1, 2)]\n",
      "[(0, 8, 1), (2, 0, 4), (3, 6, 1), (6, 4, 1), (9, 2, 1), (12, 0, 1)]\n",
      "[(1, 3, 3), (2, 9, 0), (4, 1, 3), (5, 7, 0), (8, 5, 0), (11, 3, 0), (14, 1, 0)]\n",
      "[(0, 6, 2), (3, 4, 2), (6, 2, 2), (9, 0, 2)]\n",
      "[(1, 1, 4), (2, 7, 1), (5, 5, 1), (8, 3, 1), (11, 1, 1)]\n",
      "[(0, 4, 3), (1, 10, 0), (3, 2, 3), (4, 8, 0), (6, 0, 3), (7, 6, 0), (10, 4, 0), (13, 2, 0), (16, 0, 0)]\n",
      "[(2, 5, 2), (5, 3, 2), (8, 1, 2)]\n",
      "[(0, 2, 4), (1, 8, 1), (3, 0, 4), (4, 6, 1), (7, 4, 1), (10, 2, 1), (13, 0, 1)]\n",
      "[(0, 11, 0), (2, 3, 3), (3, 9, 0), (5, 1, 3), (6, 7, 0), (9, 5, 0), (12, 3, 0), (15, 1, 0)]\n"
     ]
    }
   ],
   "source": [
    "#testing a few combinations\n",
    "for i in range(100):\n",
    "    print(nugget_combos(i))"
   ]
  },
  {
   "cell_type": "code",
   "execution_count": null,
   "metadata": {},
   "outputs": [],
   "source": []
  }
 ],
 "metadata": {
  "celltoolbar": "Create Assignment",
  "kernelspec": {
   "display_name": "Python 3 (ipykernel)",
   "language": "python",
   "name": "python3"
  },
  "language_info": {
   "codemirror_mode": {
    "name": "ipython",
    "version": 3
   },
   "file_extension": ".py",
   "mimetype": "text/x-python",
   "name": "python",
   "nbconvert_exporter": "python",
   "pygments_lexer": "ipython3",
   "version": "3.11.6"
  }
 },
 "nbformat": 4,
 "nbformat_minor": 4
}
