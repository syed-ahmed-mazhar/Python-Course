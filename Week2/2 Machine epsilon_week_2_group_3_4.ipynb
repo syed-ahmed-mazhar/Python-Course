{
 "cells": [
  {
   "cell_type": "code",
   "execution_count": 1,
   "id": "6dd7840b-3303-49ff-a4ad-e4875d953e7f",
   "metadata": {
    "tags": []
   },
   "outputs": [
    {
     "name": "stdout",
     "output_type": "stream",
     "text": [
      "Machine epsilon for Python's float type: 2.220446049250313e-16\n"
     ]
    }
   ],
   "source": [
    "epsilon_m = 1.0\n",
    "\n",
    "while (1.0 + 0.5 * epsilon_m) > 1.0:\n",
    "    epsilon_m = 0.5 * epsilon_m\n",
    "\n",
    "print(\"Machine epsilon for Python's float type:\", epsilon_m)\n"
   ]
  },
  {
   "cell_type": "code",
   "execution_count": null,
   "id": "e672fde7-1bbb-488e-a7f6-dc59427d7ac0",
   "metadata": {},
   "outputs": [],
   "source": []
  }
 ],
 "metadata": {
  "kernelspec": {
   "display_name": "Python 3 (ipykernel)",
   "language": "python",
   "name": "python3"
  },
  "language_info": {
   "codemirror_mode": {
    "name": "ipython",
    "version": 3
   },
   "file_extension": ".py",
   "mimetype": "text/x-python",
   "name": "python",
   "nbconvert_exporter": "python",
   "pygments_lexer": "ipython3",
   "version": "3.11.6"
  }
 },
 "nbformat": 4,
 "nbformat_minor": 5
}
