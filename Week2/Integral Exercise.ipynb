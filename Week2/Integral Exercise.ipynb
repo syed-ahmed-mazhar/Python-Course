{
 "cells": [
  {
   "cell_type": "markdown",
   "metadata": {
    "nbgrader": {
     "grade": false,
     "grade_id": "cell-515e01b25bda86a9",
     "locked": true,
     "schema_version": 3,
     "solution": false,
     "task": false
    }
   },
   "source": [
    "# Exercises and Homework for week 2"
   ]
  },
  {
   "cell_type": "markdown",
   "metadata": {
    "nbgrader": {
     "grade": false,
     "grade_id": "cell-14ca577e70096fbf",
     "locked": true,
     "schema_version": 3,
     "solution": false,
     "task": false
    }
   },
   "source": [
    "## physics725: Programming in Physics and Astronomy with C++ or Python (SS 2024)\n",
    "Thomas Erben"
   ]
  },
  {
   "cell_type": "markdown",
   "metadata": {
    "nbgrader": {
     "grade": false,
     "grade_id": "cell-58e8949e2e41603c",
     "locked": true,
     "schema_version": 3,
     "solution": false,
     "task": false
    }
   },
   "source": [
    "Homework is due on **Thursday, 25/04/2024, 11:59pm**\n",
    "\n",
    " * You only learn a programming language by actively praticing and using it! We therefore **strongly** advise you to work on the homework problems.\n",
    " * Please discuss the problems with your student peers and with your tutor.\n",
    " * Your code(s) need(s) to be well and appropriately commented!\n",
    " * Submit this notebook and, if necessary, additional files in a `zip`-archive with name `Homework_2_group_XX.zip` (replace `XX` with your group number) to your tutor.\n",
    "\n",
    "**Topics of this exercise:**\n",
    " * scalar data types in Python *int*, *float* and *bool*\n",
    " * control structures *if* and *while*\n",
    " * floating poing accuracy"
   ]
  },
  {
   "cell_type": "markdown",
   "metadata": {},
   "source": [
    "**Your group number here please:**  Group XX"
   ]
  },
  {
   "cell_type": "markdown",
   "metadata": {},
   "source": [
    "# 1. Lecture Review (0 points)"
   ]
  },
  {
   "cell_type": "markdown",
   "metadata": {},
   "source": [
    "If you did the lecture review questions [04_Lecture_Review.ipynb](04_Lecture_Review.ipynb) (strongly recommended!): \n",
    "Please discuss with your tutor and your group any issues/problems you had with them."
   ]
  },
  {
   "cell_type": "markdown",
   "metadata": {
    "tags": []
   },
   "source": [
    "# 2. Machine epsilon (5 points)\n",
    "In class we talked about inaccuracies that occur in a computer when performing operations with floating-point numbers. An important value to quantify floating-point accuracy is the *machine epsilon*. Please have a look at the [Wikipedia article on the machine epsilon](https://en.wikipedia.org/wiki/Machine_epsilon) to learn more about it. \n",
    "\n",
    "The *machine epsilon* is defined as the smallest number $\\epsilon_m$ such that $1.0 + \\epsilon_m > 1.0$. According to the Wikipedia article, the machine epsilon of your programming language can be estimated up to a factor of two with the algorithm:\n",
    "\n",
    "```\n",
    "epsilon_m = 1.0;\n",
    "\n",
    "while (1.0 + 0.5 * epsilon_m) > 1.0:\n",
    "    epsilon_m = 0.5 * epsilon_m\n",
    "\n",
    "```\n",
    "Use this algorithm to determine the *machine epsilon* of the Python-float type. Which float-type is used in Python (see the table of the Wikipedia article)?"
   ]
  },
  {
   "cell_type": "code",
   "execution_count": 96,
   "metadata": {
    "tags": []
   },
   "outputs": [],
   "source": [
    "import numpy as np"
   ]
  },
  {
   "cell_type": "code",
   "execution_count": 1,
   "metadata": {},
   "outputs": [],
   "source": [
    "# Your solution here please\n",
    "epsilon_m = 1.0\n",
    "while (1.0 + 0.5 * epsilon_m ) > 1.0:\n",
    "    epsilon_m *= 0.5"
   ]
  },
  {
   "cell_type": "code",
   "execution_count": 2,
   "metadata": {
    "tags": []
   },
   "outputs": [
    {
     "data": {
      "text/plain": [
       "2.220446049250313e-16"
      ]
     },
     "execution_count": 2,
     "metadata": {},
     "output_type": "execute_result"
    }
   ],
   "source": [
    "epsilon_m"
   ]
  },
  {
   "cell_type": "markdown",
   "metadata": {},
   "source": [
    "# 3. Test of natural numbers for the prime property (10 points)"
   ]
  },
  {
   "cell_type": "markdown",
   "metadata": {},
   "source": [
    "In the following, we want to develop a program to test positive integer numbers for the prime property. A positive integer larger than 1 is a prime if it cannot be formed by multiplying two smaller natural numbers. \n",
    "\n",
    "The student Lydia Leibnitz proposes the following algorithm for the task:\n",
    "1. We are given a natural number $n$ that we want to test\n",
    "2. In a loop, we test whether `n % m == 0` for all natural numbers $m$ with $2\\leq m < \\sqrt{n}$\n",
    "3. If the test (2) is `True` for any of the tested $m$, then $n$ is not prime. Otherwise, we have a prime number.\n",
    "\n",
    "Lydia gives the following proof for the correctness of her algorithm:\n",
    "Divisors of $n$ come in pairs and say $n = ab$. Then **exactly one** of the two follwing possibilities can be true:\n",
    "1. $a < \\sqrt{n} \\text{ and } b > \\sqrt{n}$\n",
    "2. $a > \\sqrt{n} \\text{ and } b < \\sqrt{n}$\n",
    "\n",
    "To see this, we assume $a< \\sqrt{n} \\text{ and } b < \\sqrt{n}$. Then follows $n = ab < \\sqrt{n}\\sqrt{n} < n$ which leads to the contradiction $n<n$! Similarily, we conclude that not both, $a$ and $b$ can be larger than $\\sqrt{n}$. It follows that one of the divisors of $n$ must be smaller than $\\sqrt{n}$ and we only need to test $2\\leq m < \\sqrt{n}$ to check whether $n$ is a prime.\n",
    "\n",
    "Your tasks:\n",
    "1. Implement Lydias algorithm to test a given number $n$ for the prime property. Your program should report with a text-message, which number is tested and whether it is a prime or not.\n",
    "2. Test your program with the numbers 8, 105, 177, 51, 5, 47, 199 and 967. Your program should report the last four numbers as primes and the others as non-prime.\n",
    "3. Embed your test in a loop and consider systematically all numbers $2\\leq n \\leq 100$ for the prime property. What do you observe?\n",
    "4. (3.) should show you that your program does not work as expected! Find the underlying algorithmic problem and correct your program! Document within your notebook or script what the problem is!\n",
    "\n",
    "**Hint:** In the past, many students *did not find any problem* with their implemented algorithm. In that case, your first issue is that you did not implement *exactly* the algorithm described above."
   ]
  },
  {
   "cell_type": "code",
   "execution_count": 139,
   "metadata": {
    "tags": []
   },
   "outputs": [],
   "source": [
    "for i in range(2,2):\n",
    "    print(i)"
   ]
  },
  {
   "cell_type": "code",
   "execution_count": 140,
   "metadata": {
    "tags": []
   },
   "outputs": [
    {
     "data": {
      "text/plain": [
       "1"
      ]
     },
     "execution_count": 140,
     "metadata": {},
     "output_type": "execute_result"
    }
   ],
   "source": [
    "int(np.sqrt(2))"
   ]
  },
  {
   "cell_type": "code",
   "execution_count": 122,
   "metadata": {
    "tags": []
   },
   "outputs": [],
   "source": [
    "\n",
    "def check_prime_number(n):\n",
    "    c=0\n",
    "    for m in range(2, int(np.sqrt(n)+1)):\n",
    "        if n % m == 0:\n",
    "            c += 1\n",
    "            break\n",
    "    \n",
    "    if c== 0:\n",
    "        print(f\"We tested the number {n} and it was a prime number\")\n",
    "    else:\n",
    "        print(f\"We tested the number {n} and it was not a prime number\")"
   ]
  },
  {
   "cell_type": "code",
   "execution_count": 147,
   "metadata": {
    "tags": []
   },
   "outputs": [
    {
     "name": "stdout",
     "output_type": "stream",
     "text": [
      "We tested the number 4 and it was not a prime number\n"
     ]
    }
   ],
   "source": [
    "check_prime_number(4)"
   ]
  },
  {
   "cell_type": "code",
   "execution_count": 105,
   "metadata": {
    "tags": []
   },
   "outputs": [
    {
     "data": {
      "text/plain": [
       "2"
      ]
     },
     "execution_count": 105,
     "metadata": {},
     "output_type": "execute_result"
    }
   ],
   "source": [
    "int(np.sqrt(8))"
   ]
  },
  {
   "cell_type": "code",
   "execution_count": 106,
   "metadata": {
    "tags": []
   },
   "outputs": [
    {
     "name": "stdout",
     "output_type": "stream",
     "text": [
      "We tested the number 2 and it was a prime number\n",
      "We tested the number 3 and it was a prime number\n",
      "We tested the number 4 and it was a prime number\n",
      "We tested the number 5 and it was a prime number\n",
      "We tested the number 6 and it was a prime number\n",
      "We tested the number 7 and it was a prime number\n",
      "We tested the number 8 and it was a prime number\n",
      "We tested the number 9 and it was a prime number\n",
      "We tested the number 10 and it was a prime number\n",
      "We tested the number 11 and it was a prime number\n",
      "We tested the number 13 and it was a prime number\n",
      "We tested the number 14 and it was a prime number\n",
      "We tested the number 15 and it was a prime number\n",
      "We tested the number 16 and it was a prime number\n",
      "We tested the number 17 and it was a prime number\n",
      "We tested the number 19 and it was a prime number\n",
      "We tested the number 20 and it was a prime number\n",
      "We tested the number 21 and it was a prime number\n",
      "We tested the number 22 and it was a prime number\n",
      "We tested the number 23 and it was a prime number\n",
      "We tested the number 25 and it was a prime number\n",
      "We tested the number 26 and it was a prime number\n",
      "We tested the number 27 and it was a prime number\n",
      "We tested the number 28 and it was a prime number\n",
      "We tested the number 29 and it was a prime number\n",
      "We tested the number 31 and it was a prime number\n",
      "We tested the number 32 and it was a prime number\n",
      "We tested the number 33 and it was a prime number\n",
      "We tested the number 34 and it was a prime number\n",
      "We tested the number 35 and it was a prime number\n",
      "We tested the number 37 and it was a prime number\n",
      "We tested the number 38 and it was a prime number\n",
      "We tested the number 39 and it was a prime number\n",
      "We tested the number 40 and it was a prime number\n",
      "We tested the number 41 and it was a prime number\n",
      "We tested the number 43 and it was a prime number\n",
      "We tested the number 44 and it was a prime number\n",
      "We tested the number 45 and it was a prime number\n",
      "We tested the number 46 and it was a prime number\n",
      "We tested the number 47 and it was a prime number\n",
      "We tested the number 49 and it was a prime number\n",
      "We tested the number 50 and it was a prime number\n",
      "We tested the number 51 and it was a prime number\n",
      "We tested the number 52 and it was a prime number\n",
      "We tested the number 53 and it was a prime number\n",
      "We tested the number 55 and it was a prime number\n",
      "We tested the number 56 and it was a prime number\n",
      "We tested the number 57 and it was a prime number\n",
      "We tested the number 58 and it was a prime number\n",
      "We tested the number 59 and it was a prime number\n",
      "We tested the number 61 and it was a prime number\n",
      "We tested the number 62 and it was a prime number\n",
      "We tested the number 63 and it was a prime number\n",
      "We tested the number 64 and it was a prime number\n",
      "We tested the number 65 and it was a prime number\n",
      "We tested the number 67 and it was a prime number\n",
      "We tested the number 68 and it was a prime number\n",
      "We tested the number 69 and it was a prime number\n",
      "We tested the number 70 and it was a prime number\n",
      "We tested the number 71 and it was a prime number\n",
      "We tested the number 73 and it was a prime number\n",
      "We tested the number 74 and it was a prime number\n",
      "We tested the number 75 and it was a prime number\n",
      "We tested the number 76 and it was a prime number\n",
      "We tested the number 77 and it was a prime number\n",
      "We tested the number 79 and it was a prime number\n",
      "We tested the number 80 and it was a prime number\n",
      "We tested the number 81 and it was a prime number\n",
      "We tested the number 82 and it was a prime number\n",
      "We tested the number 83 and it was a prime number\n",
      "We tested the number 85 and it was a prime number\n",
      "We tested the number 86 and it was a prime number\n",
      "We tested the number 87 and it was a prime number\n",
      "We tested the number 88 and it was a prime number\n",
      "We tested the number 89 and it was a prime number\n",
      "We tested the number 91 and it was a prime number\n",
      "We tested the number 92 and it was a prime number\n",
      "We tested the number 93 and it was a prime number\n",
      "We tested the number 94 and it was a prime number\n",
      "We tested the number 95 and it was a prime number\n",
      "We tested the number 97 and it was a prime number\n",
      "We tested the number 98 and it was a prime number\n",
      "We tested the number 99 and it was a prime number\n",
      "We tested the number 100 and it was a prime number\n"
     ]
    }
   ],
   "source": [
    "for n in range(2,101):\n",
    "    check_prime_number(n)"
   ]
  },
  {
   "cell_type": "markdown",
   "metadata": {
    "nbgrader": {
     "grade": false,
     "grade_id": "cell-5c20b7824c889804",
     "locked": true,
     "schema_version": 3,
     "solution": false,
     "task": false
    }
   },
   "source": [
    "# 4. Problems with an integral series (15 points)"
   ]
  },
  {
   "cell_type": "markdown",
   "metadata": {
    "nbgrader": {
     "grade": false,
     "grade_id": "cell-637b4ff9e037754d",
     "locked": true,
     "schema_version": 3,
     "solution": false,
     "task": false
    }
   },
   "source": [
    "Consider the sequence\n",
    "$$\n",
    "I_n=\\int_0^1 \\frac{x^{n}}{x+10}\\,\\mathrm{d}x; \\qquad n=1,2,\\dots\n",
    "$$\n",
    "We observe that\n",
    "\\begin{equation}\n",
    "I_n + 10I_{n-1} = \\int_0^1 \\frac{x^{n}+10x^{n-1}}{x+10}\\,\\mathrm{d}x =\n",
    "\\int_0^1 x^{n-1}\\,\\mathrm{d}x = \\frac 1n \\label{eq1}\\tag{1}\n",
    "\\end{equation}\n",
    "resulting in\n",
    "\\begin{equation}\n",
    "I_n = \\frac 1n - 10I_{n-1} \\text{ and } \n",
    "I_0 = \\int_0^1 \\frac{1}{x+10}\\,\\mathrm{d}x = \\ln(11/10)\\approx 0.09531. \\label{eq2}\\tag{2}\n",
    "\\end{equation}\n",
    "One can show that the sequence converges to zero: $\\lim_{n\\to\\infty}I_n=0$. \n",
    "\n",
    "We want to numerically estimate $I_{20}$ by using eqs. \\ref{eq1} and \\ref{eq2}. We can caluclulate and print the first 20 elements of the series in a `while`-loop. \n",
    "\n",
    "There is a second, independent estimate of $I_{20}$ if we revert the first relation from eq. \\ref{eq2}:\n",
    "\\begin{equation}\n",
    "  I_{n-1} = \\frac 1{10}\\left(\\frac 1n -I_{n}\\right) \\text{ with } I_{50} = 0.\\label{eq3}\\tag{3}\n",
    "\\end{equation}\n",
    "This relation allows us to calculate the elements $I_{50}, I_{49}, \\dots, I_{20}$.\n",
    "\n",
    "**Your tasks:**\n",
    "\n",
    "Perform the two experiments with the forward and the reverse relation in the cells below and argue which one of the results you trust. Please explain your observations.\n",
    "\n",
    "**Hints:** \n",
    " * Assume for the first case (forward relation) that $I_0$ is represented internally as a float number with an error, i.e. $I_0 = \\ln(11/10) + \\epsilon$, where $\\epsilon$ is the error. We know that $\\epsilon\\approx 10^{-18}$ for `Python` float numbers. What happens with $\\epsilon$ when you calculate new elements of the series? \n",
    " * for the logarithm you can use the numpy module with ```import numpy``` and use the defined function ```numpy.log(x)``` to obtain $\\ln(x)$!"
   ]
  },
  {
   "cell_type": "code",
   "execution_count": 182,
   "metadata": {},
   "outputs": [],
   "source": [
    "# Your solution with the forward relation from eq. (2)\n",
    "n=1\n",
    "I_forward_values = [np.log(11/10)]\n",
    "while n<21 :\n",
    "    I_forward_values.append((1/n)- (10* I_forward_values[-1]))\n",
    "    n+= 1"
   ]
  },
  {
   "cell_type": "code",
   "execution_count": 183,
   "metadata": {
    "tags": []
   },
   "outputs": [
    {
     "data": {
      "text/plain": [
       "[0.09531017980432495,\n",
       " 0.04689820195675054,\n",
       " 0.031017980432494596,\n",
       " 0.023153529008387352,\n",
       " 0.018464709916126476,\n",
       " 0.01535290083873525,\n",
       " 0.013137658279314152,\n",
       " 0.011480560064001333,\n",
       " 0.010194399359986672,\n",
       " 0.009167117511244383,\n",
       " 0.00832882488755618,\n",
       " 0.007620842033529113,\n",
       " 0.007124912998042202,\n",
       " 0.005673946942654912,\n",
       " 0.014689102002022308,\n",
       " -0.08022435335355642,\n",
       " 0.8647435335355642,\n",
       " -8.588611805943877,\n",
       " 85.94167361499433,\n",
       " -859.3641045709959,\n",
       " 8593.691045709958]"
      ]
     },
     "execution_count": 183,
     "metadata": {},
     "output_type": "execute_result"
    }
   ],
   "source": [
    "I_20 = I_forward_values[-1]"
   ]
  },
  {
   "cell_type": "code",
   "execution_count": 186,
   "metadata": {},
   "outputs": [],
   "source": [
    "# Your solution with the reverse relation from eq. (3)\n",
    "\n",
    "n=50\n",
    "I_reverse_values = [0]\n",
    "while n>20 :\n",
    "    I_reverse_values.append( (1/10)* ((1/n) - (I_reverse_values[-1])))\n",
    "    n-= 1"
   ]
  },
  {
   "cell_type": "code",
   "execution_count": 187,
   "metadata": {
    "tags": []
   },
   "outputs": [
    {
     "data": {
      "text/plain": [
       "[0,\n",
       " 0.002,\n",
       " 0.0018408163265306123,\n",
       " 0.0018992517006802719,\n",
       " 0.001937734404400058,\n",
       " 0.001980139603038255,\n",
       " 0.002024208261918397,\n",
       " 0.0020703064465354333,\n",
       " 0.002118550750695294,\n",
       " 0.0021690973058828516,\n",
       " 0.0022221146596556173,\n",
       " 0.0022777885340344384,\n",
       " 0.00233632371069912,\n",
       " 0.002397946576298509,\n",
       " 0.002462908045072852,\n",
       " 0.0025314869732704927,\n",
       " 0.0026039941598158083,\n",
       " 0.0026807770546066548,\n",
       " 0.002762225324842365,\n",
       " 0.0028487774675157638,\n",
       " 0.002940928704861327,\n",
       " 0.0030392404628472006,\n",
       " 0.0031443518157842454,\n",
       " 0.003256993389850147,\n",
       " 0.0033780043647186893,\n",
       " 0.0035083534096819777,\n",
       " 0.003649164659031803,\n",
       " 0.003801750200763486,\n",
       " 0.003967651066880173,\n",
       " 0.004148689438766529,\n",
       " 0.004347035818028109]"
      ]
     },
     "execution_count": 187,
     "metadata": {},
     "output_type": "execute_result"
    }
   ],
   "source": [
    "I_20 = I_reverse_values[-1]"
   ]
  },
  {
   "cell_type": "markdown",
   "metadata": {},
   "source": [
    "Discussion of results here please\n",
    "the backward values should be more accurate because in the forward case, 1/n is still a relatively large number in comparison to the other terms in the Value of I_n and when we add a large\n",
    "number with a small number, we lose accuracy in the floating point values. Due to the multiplication by 10 in the forward method, we tend to get multiplication of possible errors from floating point inaccuracies. The error gets mupltiplied by magnitude 10 each time in the forward relation"
   ]
  },
  {
   "cell_type": "markdown",
   "metadata": {
    "tags": []
   },
   "source": [
    "## 5. Chicken McNuggets (15 points)\n",
    "Mc Donalds sells its Chicken McNuggets in packages of 6, 9 and 20 pieces. Write a ```python``` program which tests for a given number `N` whether `N` nuggets can be bought or not. Your program should print *all* possible package combinations in which the `N` nuggets can be obtained (e.g. 60 nuggets can be bought with 3 packages of 20 pieces, 10 packages of 6 pieces and three more combinations). Print a corresponding message if the `N` nuggets cannot be bought! \n",
    "\n",
    "**Hints:**\n",
    "- This is a *brute force* problem. It means that you need to find the solutions by trying *all possibilities*. One possible approach is as follows: Write three nested `while` loops iterating over the variables `m`, `n` and `o`. The variables represent the number of packages with corresponding pieces. `m` stands for the number of packages with 6 nuggets and so on. Within the innermost loop, you can check with an `if`-statement such as\n",
    "```\n",
    "if (6 * m + 9 * n + 20 * o) == N:\n",
    "    print('possible solution found ....')\n",
    "```\n",
    "whether your current combination of `(m, n, o)` is a solution to the problem. You now only need to find iteration limits for `m`, `n` and `o` to solve the task. \n",
    "\n",
    "- For `N=60`, you should find the following solutions for `(m * 6, n * 9, o * 20)`: `(0, 0, 3)`, `(1, 6, 0)`, `(4, 4, 0)`, `(7, 2, 0)`, `(10, 0, 0)`."
   ]
  },
  {
   "cell_type": "code",
   "execution_count": 197,
   "metadata": {},
   "outputs": [],
   "source": [
    "# Your solution here please\n",
    "N= 60\n",
    "m, o, n = 1, 1, 1\n",
    "while m < N // m:\n",
    "    m += 1\n",
    "    while n < N // n :\n",
    "        n += 1\n",
    "        while o < N // o:\n",
    "            if (6 * m + 9 * n + 20 * o) == N:\n",
    "                print(f\"possible solution found ({m},{n},{o})\")\n",
    "            o +=1"
   ]
  },
  {
   "cell_type": "code",
   "execution_count": null,
   "metadata": {},
   "outputs": [],
   "source": []
  }
 ],
 "metadata": {
  "celltoolbar": "Create Assignment",
  "kernelspec": {
   "display_name": "Python 3 (ipykernel)",
   "language": "python",
   "name": "python3"
  },
  "language_info": {
   "codemirror_mode": {
    "name": "ipython",
    "version": 3
   },
   "file_extension": ".py",
   "mimetype": "text/x-python",
   "name": "python",
   "nbconvert_exporter": "python",
   "pygments_lexer": "ipython3",
   "version": "3.11.6"
  }
 },
 "nbformat": 4,
 "nbformat_minor": 4
}
